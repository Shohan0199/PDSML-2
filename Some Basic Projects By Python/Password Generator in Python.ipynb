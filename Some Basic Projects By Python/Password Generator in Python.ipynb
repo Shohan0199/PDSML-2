{
 "cells": [
  {
   "cell_type": "code",
   "execution_count": 6,
   "id": "56d59e47",
   "metadata": {},
   "outputs": [
    {
     "name": "stdout",
     "output_type": "stream",
     "text": [
      "Your New Password is : ,=D|9r.y$J;6\n"
     ]
    }
   ],
   "source": [
    "import string\n",
    "from random import *\n",
    "\n",
    "Value = string.ascii_letters + string.punctuation + string.digits\n",
    "\n",
    "password = \"\".join(choice(Value) for x in range(randint(8, 16)))\n",
    "                   \n",
    "print('Your New Password is :', password)"
   ]
  },
  {
   "cell_type": "code",
   "execution_count": null,
   "id": "9e413e4d",
   "metadata": {},
   "outputs": [],
   "source": []
  }
 ],
 "metadata": {
  "kernelspec": {
   "display_name": "Python 3",
   "language": "python",
   "name": "python3"
  },
  "language_info": {
   "codemirror_mode": {
    "name": "ipython",
    "version": 3
   },
   "file_extension": ".py",
   "mimetype": "text/x-python",
   "name": "python",
   "nbconvert_exporter": "python",
   "pygments_lexer": "ipython3",
   "version": "3.8.8"
  }
 },
 "nbformat": 4,
 "nbformat_minor": 5
}
