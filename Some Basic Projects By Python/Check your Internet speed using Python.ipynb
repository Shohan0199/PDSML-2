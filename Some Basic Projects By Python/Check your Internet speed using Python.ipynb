{
 "cells": [
  {
   "cell_type": "code",
   "execution_count": null,
   "id": "1a4f0485",
   "metadata": {},
   "outputs": [],
   "source": [
    "import speedtest\n",
    "s = speedtest.Speedtest()\n",
    "s.get_best_server()\n",
    "s.download()\n",
    "s.upload()\n",
    "res = s.results.dict()\n",
    "print(res[\"download\"], res[\"upload\"], res[\"ping\"])"
   ]
  },
  {
   "cell_type": "code",
   "execution_count": null,
   "id": "03cb25c5",
   "metadata": {},
   "outputs": [],
   "source": []
  }
 ],
 "metadata": {
  "kernelspec": {
   "display_name": "Python 3",
   "language": "python",
   "name": "python3"
  },
  "language_info": {
   "codemirror_mode": {
    "name": "ipython",
    "version": 3
   },
   "file_extension": ".py",
   "mimetype": "text/x-python",
   "name": "python",
   "nbconvert_exporter": "python",
   "pygments_lexer": "ipython3",
   "version": "3.8.8"
  }
 },
 "nbformat": 4,
 "nbformat_minor": 5
}
